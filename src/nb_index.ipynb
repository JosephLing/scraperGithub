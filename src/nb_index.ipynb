{
 "cells": [],
 "metadata": {
  "kernelspec": {
   "display_name": "Python 3",
   "language": "python",
   "name": "python3"
  },
  "language_info": {
   "codemirror_mode": {
    "name": "ipython",
    "version": 3
   },
   "file_extension": ".py",
   "mimetype": "text/x-python",
   "name": "python",
   "nbconvert_exporter": "python",
   "pygments_lexer": "ipython3",
   "version": "3.7.4"
  },
  "pycharm": {
   "stem_cell": {
    "cell_type": "raw",
    "source": [
     "\n",
     "\n",
     "# Temporarily hijack __file__ to avoid adding names at module scope;\n",
     "# __file__ will be overwritten again during the reload() call.\n",
     "__file__ = {'sys': sys, 'importlib': importlib}\n",
     "\n",
     "del importlib\n",
     "del os\n",
     "del sys\n",
     "\n",
     "__file__['importlib'].reload(__file__['sys'].modules[__name__])"
    ],
    "metadata": {
     "collapsed": false
    }
   }
  }
 },
 "nbformat": 4,
 "nbformat_minor": 2
}