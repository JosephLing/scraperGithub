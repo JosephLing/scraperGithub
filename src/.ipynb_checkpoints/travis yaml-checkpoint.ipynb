{
 "cells": [
  {
   "cell_type": "code",
   "execution_count": 7,
   "metadata": {
    "ExecuteTime": {
     "end_time": "2019-12-06T09:56:18.923381Z",
     "start_time": "2019-12-06T09:56:05.965289Z"
    }
   },
   "outputs": [],
   "source": [
    "from nb_imports import *\n",
    "%matplotlib inline\n",
    "import csvReader\n",
    "import lib\n",
    "csvfiledata = csvReader.readfile(\"combined.csv\")"
   ]
  },
  {
   "cell_type": "code",
   "execution_count": null,
   "metadata": {
    "ExecuteTime": {
     "start_time": "2019-12-06T09:57:52.956Z"
    }
   },
   "outputs": [],
   "source": [
    "import yaml\n",
    "import config\n",
    "from dataprocessingutil import isCommentInString\n",
    "\n",
    "yaml_stats = []\n",
    "for key in config.PATHS.keys():\n",
    "    for line in csvfiledata:\n",
    "        data = line.get(\"{}{}\".format(key, 0))\n",
    "        if data:\n",
    "            fileasstring = lib.base64Decode(data)\n",
    "            if fileasstring:\n",
    "                yaml_file_lines = fileasstring.split(\"\\n\")\n",
    "                comments = 0\n",
    "                blank_lines = 0\n",
    "                code_with_comments = 0\n",
    "                code = 0\n",
    "                yaml_encoding_error = \"\"\n",
    "\n",
    "                for yaml_line in yaml_file_lines:\n",
    "                    yaml_line = yaml_line.replace(\" \", \"\")\n",
    "                    if isCommentInString(yaml_line):\n",
    "                        comments += 1\n",
    "                        if not yaml_line.startswith(\"#\"):\n",
    "                            code += 1\n",
    "                            code_with_comments += 1\n",
    "                    elif yaml_line == \"\":\n",
    "                        blank_lines += 1\n",
    "                    else:\n",
    "                        code += 1\n",
    "                    \n",
    "                    blob = None\n",
    "                    try:\n",
    "                        blob = yaml.safe_load(fileasstring)\n",
    "                    except yaml.scanner.ScannerError as e:\n",
    "                        yaml_encoding_error = \"scanner error\"\n",
    "                    except yaml.parser.ParserError as e:\n",
    "                        yaml_encoding_error = \"parse error\"\n",
    "                    except yaml.constructor.ConstructorError as e:\n",
    "                        yaml_encoding_error = \"constructor error\"\n",
    "                    except yaml.reader.ReaderError as e:\n",
    "                        yaml_encoding_error = \"reader error\"\n",
    "                    \n",
    "                    if blob is not None:\n",
    "                        pass\n",
    "                \n",
    "                node = {\"comments\": comments,\n",
    "                 \"blank_lines\":blank_lines,\n",
    "                 \"code\": code,\n",
    "                \"yaml_encoding_error\":yaml_encoding_error,\n",
    "                 \"code_with_comments\":code_with_comments,\n",
    "                 \"lines\":len(yaml_file_lines),\n",
    "                 \"percentage\":(comments/len(yaml_file_lines))*100,\n",
    "                 \"stars\": line[\"stargazers_count\"], \n",
    "                 \"sub\": line.get(\"subscribers_count\")}\n",
    "                \n",
    "                yaml_stats.append(node)\n",
    "\n",
    "dataset = pd.DataFrame(comment_stats)\n",
    "dataset = dataset.astype(dtype={'comments': int,\n",
    "                                \"blank_lines\":int,\n",
    "                                \"code\":int,\n",
    "                                \"yaml_encoding_error\":str,\n",
    "                                \"code_with_comments\":int,\n",
    "                                'lines':int,\n",
    "                                'percentage':float,\n",
    "                                \"sub\":int,\n",
    "                                \"stars\":int})\n",
    "dataset.head(5)"
   ]
  },
  {
   "cell_type": "code",
   "execution_count": null,
   "metadata": {},
   "outputs": [],
   "source": []
  }
 ],
 "metadata": {
  "kernelspec": {
   "display_name": "Python 3",
   "language": "python",
   "name": "python3"
  },
  "language_info": {
   "codemirror_mode": {
    "name": "ipython",
    "version": 3
   },
   "file_extension": ".py",
   "mimetype": "text/x-python",
   "name": "python",
   "nbconvert_exporter": "python",
   "pygments_lexer": "ipython3",
   "version": "3.7.4"
  }
 },
 "nbformat": 4,
 "nbformat_minor": 2
}
