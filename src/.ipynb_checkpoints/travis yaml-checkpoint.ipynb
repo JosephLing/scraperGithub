{
 "cells": [
  {
   "cell_type": "code",
   "execution_count": 16,
   "metadata": {
    "ExecuteTime": {
     "end_time": "2019-12-07T11:44:56.248773Z",
     "start_time": "2019-12-07T11:44:55.704743Z"
    }
   },
   "outputs": [],
   "source": [
    "from nb_imports import *\n",
    "%matplotlib inline\n",
    "import csvReader\n",
    "import lib\n",
    "dtypes = {\"comments\":int, \n",
    "          \"blank_lines\":int, \n",
    "          \"code\":int,\n",
    "          \"config\":str, \n",
    "          \"yaml_encoding_error\":str, \n",
    "          \"code_with_comments\":int,\n",
    "          \"lines\":int,\n",
    "          \"percentage\":float,\n",
    "          \"stars\":int, \n",
    "          \"sub\":int,\n",
    "          \"data\":str, \n",
    "          \"id\":int,\n",
    "          \"lang\":str\n",
    "         }\n",
    "df = pd.read_csv(\"yaml threaded.csv\", dtype=dtypes)"
   ]
  },
  {
   "cell_type": "code",
   "execution_count": 17,
   "metadata": {
    "ExecuteTime": {
     "end_time": "2019-12-07T11:44:56.347690Z",
     "start_time": "2019-12-07T11:44:56.297719Z"
    }
   },
   "outputs": [
    {
     "data": {
      "text/html": [
       "<div>\n",
       "<style scoped>\n",
       "    .dataframe tbody tr th:only-of-type {\n",
       "        vertical-align: middle;\n",
       "    }\n",
       "\n",
       "    .dataframe tbody tr th {\n",
       "        vertical-align: top;\n",
       "    }\n",
       "\n",
       "    .dataframe thead th {\n",
       "        text-align: right;\n",
       "    }\n",
       "</style>\n",
       "<table border=\"1\" class=\"dataframe\">\n",
       "  <thead>\n",
       "    <tr style=\"text-align: right;\">\n",
       "      <th></th>\n",
       "      <th>comments</th>\n",
       "      <th>blank_lines</th>\n",
       "      <th>code</th>\n",
       "      <th>config</th>\n",
       "      <th>lang</th>\n",
       "      <th>yaml_encoding_error</th>\n",
       "      <th>code_with_comments</th>\n",
       "      <th>lines</th>\n",
       "      <th>percentage</th>\n",
       "      <th>stars</th>\n",
       "      <th>sub</th>\n",
       "      <th>data</th>\n",
       "      <th>id</th>\n",
       "    </tr>\n",
       "  </thead>\n",
       "  <tbody>\n",
       "    <tr>\n",
       "      <td>0</td>\n",
       "      <td>0</td>\n",
       "      <td>8</td>\n",
       "      <td>49</td>\n",
       "      <td>travis</td>\n",
       "      <td>NaN</td>\n",
       "      <td>NaN</td>\n",
       "      <td>1</td>\n",
       "      <td>57</td>\n",
       "      <td>0.000000</td>\n",
       "      <td>4039</td>\n",
       "      <td>118</td>\n",
       "      <td>ZGlzdDogdHJ1c3R5CgpsYW5ndWFnZTogcHl0aG9uCgpjYW...</td>\n",
       "      <td>2337852</td>\n",
       "    </tr>\n",
       "    <tr>\n",
       "      <td>1</td>\n",
       "      <td>0</td>\n",
       "      <td>2</td>\n",
       "      <td>9</td>\n",
       "      <td>travis</td>\n",
       "      <td>NaN</td>\n",
       "      <td>NaN</td>\n",
       "      <td>0</td>\n",
       "      <td>11</td>\n",
       "      <td>0.000000</td>\n",
       "      <td>4039</td>\n",
       "      <td>128</td>\n",
       "      <td>bGFuZ3VhZ2U6IGphdmEKamRrOiBvcmFjbGVqZGs3CmVudj...</td>\n",
       "      <td>44498352</td>\n",
       "    </tr>\n",
       "    <tr>\n",
       "      <td>2</td>\n",
       "      <td>6</td>\n",
       "      <td>1</td>\n",
       "      <td>40</td>\n",
       "      <td>travis</td>\n",
       "      <td>NaN</td>\n",
       "      <td>NaN</td>\n",
       "      <td>0</td>\n",
       "      <td>47</td>\n",
       "      <td>12.765957</td>\n",
       "      <td>7465</td>\n",
       "      <td>449</td>\n",
       "      <td>ZGlzdDogeGVuaWFsCmxhbmd1YWdlOiBqYXZhCmpkazoKIC...</td>\n",
       "      <td>1272129</td>\n",
       "    </tr>\n",
       "    <tr>\n",
       "      <td>3</td>\n",
       "      <td>0</td>\n",
       "      <td>1</td>\n",
       "      <td>15</td>\n",
       "      <td>github</td>\n",
       "      <td>NaN</td>\n",
       "      <td>NaN</td>\n",
       "      <td>0</td>\n",
       "      <td>16</td>\n",
       "      <td>0.000000</td>\n",
       "      <td>7465</td>\n",
       "      <td>449</td>\n",
       "      <td>bmFtZTogIkNsb3NlIHN0YWxlIGlzc3VlcyIKb246CiAgc2...</td>\n",
       "      <td>1272129</td>\n",
       "    </tr>\n",
       "    <tr>\n",
       "      <td>4</td>\n",
       "      <td>0</td>\n",
       "      <td>1</td>\n",
       "      <td>43</td>\n",
       "      <td>github</td>\n",
       "      <td>NaN</td>\n",
       "      <td>NaN</td>\n",
       "      <td>0</td>\n",
       "      <td>44</td>\n",
       "      <td>0.000000</td>\n",
       "      <td>7465</td>\n",
       "      <td>449</td>\n",
       "      <td>bmFtZTogSmF2YSBDSQpvbjoKICBwdXNoOgogICAgYnJhbm...</td>\n",
       "      <td>1272129</td>\n",
       "    </tr>\n",
       "    <tr>\n",
       "      <td>...</td>\n",
       "      <td>...</td>\n",
       "      <td>...</td>\n",
       "      <td>...</td>\n",
       "      <td>...</td>\n",
       "      <td>...</td>\n",
       "      <td>...</td>\n",
       "      <td>...</td>\n",
       "      <td>...</td>\n",
       "      <td>...</td>\n",
       "      <td>...</td>\n",
       "      <td>...</td>\n",
       "      <td>...</td>\n",
       "      <td>...</td>\n",
       "    </tr>\n",
       "    <tr>\n",
       "      <td>19085</td>\n",
       "      <td>0</td>\n",
       "      <td>0</td>\n",
       "      <td>30</td>\n",
       "      <td>travis</td>\n",
       "      <td>NaN</td>\n",
       "      <td>NaN</td>\n",
       "      <td>0</td>\n",
       "      <td>30</td>\n",
       "      <td>0.000000</td>\n",
       "      <td>528</td>\n",
       "      <td>109</td>\n",
       "      <td>bGFuZ3VhZ2U6IGNzaGFycApzdWRvOiBmYWxzZQpkaXN0Oi...</td>\n",
       "      <td>21712185</td>\n",
       "    </tr>\n",
       "    <tr>\n",
       "      <td>19086</td>\n",
       "      <td>9</td>\n",
       "      <td>7</td>\n",
       "      <td>35</td>\n",
       "      <td>travis</td>\n",
       "      <td>NaN</td>\n",
       "      <td>NaN</td>\n",
       "      <td>0</td>\n",
       "      <td>51</td>\n",
       "      <td>17.647059</td>\n",
       "      <td>528</td>\n",
       "      <td>15</td>\n",
       "      <td>b3M6IG9zeApvc3hfaW1hZ2U6IHhjb2RlMTAKbGFuZ3VhZ2...</td>\n",
       "      <td>113033869</td>\n",
       "    </tr>\n",
       "    <tr>\n",
       "      <td>19087</td>\n",
       "      <td>0</td>\n",
       "      <td>5</td>\n",
       "      <td>12</td>\n",
       "      <td>travis</td>\n",
       "      <td>NaN</td>\n",
       "      <td>NaN</td>\n",
       "      <td>0</td>\n",
       "      <td>17</td>\n",
       "      <td>0.000000</td>\n",
       "      <td>528</td>\n",
       "      <td>42</td>\n",
       "      <td>bGFuZ3VhZ2U6IG5vZGVfanMKCm5vZGVfanM6CiAgLSAwLj...</td>\n",
       "      <td>36619745</td>\n",
       "    </tr>\n",
       "    <tr>\n",
       "      <td>19088</td>\n",
       "      <td>1</td>\n",
       "      <td>6</td>\n",
       "      <td>16</td>\n",
       "      <td>travis</td>\n",
       "      <td>NaN</td>\n",
       "      <td>NaN</td>\n",
       "      <td>0</td>\n",
       "      <td>23</td>\n",
       "      <td>4.347826</td>\n",
       "      <td>528</td>\n",
       "      <td>33</td>\n",
       "      <td>bGFuZ3VhZ2U6IHNjYWxhCnN1ZG86IHRydWUKZGlzdDogdH...</td>\n",
       "      <td>319296</td>\n",
       "    </tr>\n",
       "    <tr>\n",
       "      <td>19089</td>\n",
       "      <td>15</td>\n",
       "      <td>14</td>\n",
       "      <td>706</td>\n",
       "      <td>circleci</td>\n",
       "      <td>NaN</td>\n",
       "      <td>NaN</td>\n",
       "      <td>24</td>\n",
       "      <td>735</td>\n",
       "      <td>2.040816</td>\n",
       "      <td>528</td>\n",
       "      <td>67</td>\n",
       "      <td>IyBDaXJjbGVDSSBDb25maWd1cmF0aW9uIEZpbGUKCiMgdm...</td>\n",
       "      <td>16110565</td>\n",
       "    </tr>\n",
       "  </tbody>\n",
       "</table>\n",
       "<p>19090 rows × 13 columns</p>\n",
       "</div>"
      ],
      "text/plain": [
       "       comments  blank_lines  code    config lang yaml_encoding_error  \\\n",
       "0             0            8    49    travis  NaN                 NaN   \n",
       "1             0            2     9    travis  NaN                 NaN   \n",
       "2             6            1    40    travis  NaN                 NaN   \n",
       "3             0            1    15    github  NaN                 NaN   \n",
       "4             0            1    43    github  NaN                 NaN   \n",
       "...         ...          ...   ...       ...  ...                 ...   \n",
       "19085         0            0    30    travis  NaN                 NaN   \n",
       "19086         9            7    35    travis  NaN                 NaN   \n",
       "19087         0            5    12    travis  NaN                 NaN   \n",
       "19088         1            6    16    travis  NaN                 NaN   \n",
       "19089        15           14   706  circleci  NaN                 NaN   \n",
       "\n",
       "       code_with_comments  lines  percentage  stars  sub  \\\n",
       "0                       1     57    0.000000   4039  118   \n",
       "1                       0     11    0.000000   4039  128   \n",
       "2                       0     47   12.765957   7465  449   \n",
       "3                       0     16    0.000000   7465  449   \n",
       "4                       0     44    0.000000   7465  449   \n",
       "...                   ...    ...         ...    ...  ...   \n",
       "19085                   0     30    0.000000    528  109   \n",
       "19086                   0     51   17.647059    528   15   \n",
       "19087                   0     17    0.000000    528   42   \n",
       "19088                   0     23    4.347826    528   33   \n",
       "19089                  24    735    2.040816    528   67   \n",
       "\n",
       "                                                    data         id  \n",
       "0      ZGlzdDogdHJ1c3R5CgpsYW5ndWFnZTogcHl0aG9uCgpjYW...    2337852  \n",
       "1      bGFuZ3VhZ2U6IGphdmEKamRrOiBvcmFjbGVqZGs3CmVudj...   44498352  \n",
       "2      ZGlzdDogeGVuaWFsCmxhbmd1YWdlOiBqYXZhCmpkazoKIC...    1272129  \n",
       "3      bmFtZTogIkNsb3NlIHN0YWxlIGlzc3VlcyIKb246CiAgc2...    1272129  \n",
       "4      bmFtZTogSmF2YSBDSQpvbjoKICBwdXNoOgogICAgYnJhbm...    1272129  \n",
       "...                                                  ...        ...  \n",
       "19085  bGFuZ3VhZ2U6IGNzaGFycApzdWRvOiBmYWxzZQpkaXN0Oi...   21712185  \n",
       "19086  b3M6IG9zeApvc3hfaW1hZ2U6IHhjb2RlMTAKbGFuZ3VhZ2...  113033869  \n",
       "19087  bGFuZ3VhZ2U6IG5vZGVfanMKCm5vZGVfanM6CiAgLSAwLj...   36619745  \n",
       "19088  bGFuZ3VhZ2U6IHNjYWxhCnN1ZG86IHRydWUKZGlzdDogdH...     319296  \n",
       "19089  IyBDaXJjbGVDSSBDb25maWd1cmF0aW9uIEZpbGUKCiMgdm...   16110565  \n",
       "\n",
       "[19090 rows x 13 columns]"
      ]
     },
     "execution_count": 17,
     "metadata": {},
     "output_type": "execute_result"
    }
   ],
   "source": [
    "df"
   ]
  },
  {
   "cell_type": "code",
   "execution_count": 18,
   "metadata": {
    "ExecuteTime": {
     "end_time": "2019-12-07T11:44:58.530720Z",
     "start_time": "2019-12-07T11:44:56.984895Z"
    }
   },
   "outputs": [
    {
     "data": {
      "text/plain": [
       "<seaborn.axisgrid.FacetGrid at 0x22bd265fcc8>"
      ]
     },
     "execution_count": 18,
     "metadata": {},
     "output_type": "execute_result"
    },
    {
     "data": {
      "image/png": "[encoded data removed]",
      "text/plain": [
       "<Figure size 1152x180 with 6 Axes>"
      ]
     },
     "metadata": {
      "needs_background": "light"
     },
     "output_type": "display_data"
    }
   ],
   "source": [
    "sns.catplot(x=\"percentage\", col=\"config\", data=df,col_wrap=8,height=2.5,aspect=.8)"
   ]
  },
  {
   "cell_type": "code",
   "execution_count": 19,
   "metadata": {
    "ExecuteTime": {
     "end_time": "2019-12-07T11:44:58.842584Z",
     "start_time": "2019-12-07T11:44:58.532720Z"
    }
   },
   "outputs": [
    {
     "data": {
      "text/plain": [
       "<matplotlib.axes._subplots.AxesSubplot at 0x22bd2976948>"
      ]
     },
     "execution_count": 19,
     "metadata": {},
     "output_type": "execute_result"
    },
    {
     "data": {
      "image/png": "[encoded data removed]",
      "text/plain": [
       "<Figure size 576x360 with 1 Axes>"
      ]
     },
     "metadata": {
      "needs_background": "light"
     },
     "output_type": "display_data"
    }
   ],
   "source": [
    "plt.figure(figsize=(8, 5))\n",
    "sns.countplot(x=\"yaml_encoding_error\", hue=\"config\", data=df)"
   ]
  },
  {
   "cell_type": "code",
   "execution_count": null,
   "metadata": {},
   "outputs": [],
   "source": []
  }
 ],
 "metadata": {
  "kernelspec": {
   "display_name": "Python 3",
   "language": "python",
   "name": "python3"
  },
  "language_info": {
   "codemirror_mode": {
    "name": "ipython",
    "version": 3
   },
   "file_extension": ".py",
   "mimetype": "text/x-python",
   "name": "python",
   "nbconvert_exporter": "python",
   "pygments_lexer": "ipython3",
   "version": "3.7.4"
  }
 },
 "nbformat": 4,
 "nbformat_minor": 2
}
